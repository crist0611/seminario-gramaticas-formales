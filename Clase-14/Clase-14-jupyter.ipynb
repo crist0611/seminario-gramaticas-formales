{
 "cells": [
  {
   "cell_type": "markdown",
   "metadata": {},
   "source": [
    "# Gramáticas categoriales con rasgos"
   ]
  },
  {
   "cell_type": "markdown",
   "metadata": {},
   "source": [
    "## Requerimientos"
   ]
  },
  {
   "cell_type": "code",
   "execution_count": 1,
   "metadata": {},
   "outputs": [],
   "source": [
    "import nltk \n",
    "import re \n",
    "from nltk.ccg import lexicon, chart \n",
    "from nltk.ccg.chart import printCCGDerivation"
   ]
  },
  {
   "cell_type": "markdown",
   "metadata": {},
   "source": [
    "Las gramáticas categoriales están conformadas principalmente por un conjunto reducido de reglas y un léxico sumamente rico.\n",
    "Las reglas que utiliza OpenCCG, que es el parser categorial que vamos a ver son las siguientes:"
   ]
  },
  {
   "cell_type": "markdown",
   "metadata": {},
   "source": [
    "![reglas categoriales](reglascategorialesopenccg.png)"
   ]
  },
  {
   "cell_type": "markdown",
   "metadata": {},
   "source": [
    "Construir una gramática categorial consiste principalmente en elaborar un léxico lo suficientemente rico, ya que las gramáticas categoriales son fuertemente lexicalistas. En ellas, la categoría a la que pertenece cada entrada léxica codifica sus posibilidades combinatorias."
   ]
  },
  {
   "cell_type": "markdown",
   "metadata": {},
   "source": [
    "## Gramática categorial combinatoria con rasgos en NLTK"
   ]
  },
  {
   "cell_type": "code",
   "execution_count": 2,
   "metadata": {},
   "outputs": [],
   "source": [
    "#Combinatory Categorial Grammar with features\n",
    "# Esta hay que revisarla y ver cómo se corrige para que funcione\n",
    "\n",
    "def combinatory_parser(sentence, grammar):   \n",
    "    sentence = sentence.lower()                                     # convierte a minúscula\n",
    "    if sentence.endswith('.'):                                      # si la oración termina con un punto\n",
    "        sent = re.sub('\\.',' ',sentence)                            # se lo quita\n",
    "    else:                                                           # si no\n",
    "        sent = sentence                                             # la toma como está\n",
    "    sent = sent.split()\n",
    "    codigogram = nltk.data.load(grammar, cache=False)              # carga la gramática a nltk\n",
    "    lex = lexicon.fromstring(codigogram)\n",
    "    print(lex)\n",
    "    parser = chart.CCGChartParser(lex, chart.DefaultRuleSet)\n",
    "    parses = list(parser.parse(sent))\n",
    "    quantparses = len(parses)\n",
    "    print(str(quantparses) + \" parses\")\n",
    "    print(sent)\n",
    "    parseslist = 0\n",
    "    def showccgparses(parseslist1, quantparses1):\n",
    "        if parseslist1 < quantparses1:\n",
    "            printCCGDerivation(parses[parseslist1])\n",
    "            parseslist2 = parseslist1 + 1\n",
    "            showccgparses(parseslist2, quantparses1)\n",
    "        elif parseslist == quantparses: \n",
    "            printCCGDerivation(parses[parseslist])\n",
    "    if quantparses == 0:\n",
    "        print('No se encontraron estructuras para imprimir')\n",
    "    elif quantparses > 0:\n",
    "        showccgparses(parseslist, quantparses)"
   ]
  },
  {
   "cell_type": "code",
   "execution_count": 3,
   "metadata": {},
   "outputs": [
    {
     "name": "stdout",
     "output_type": "stream",
     "text": [
      "cata => NP['tres']\n",
      "el => (NP['tres']/NC['masc'])\n",
      "explotó => (S\\NP['tres'])\n",
      "facultad => NC['fem']\n",
      "fede => NP['tres']\n",
      "fer => NP['tres']\n",
      "fuma => (S\\NP['tres'])\n",
      "fumó => (S\\NP['tres'])\n",
      "globo => NC['masc']\n",
      "habla => (S\\NP['tres'])\n",
      "julia => NP['tres']\n",
      "la => (NP['tres']/NC['fem'])\n",
      "martín => NP['tres']\n",
      "pablo => NP['tres']\n",
      "plaza => NC['fem']\n",
      "regalo => NC['masc']\n",
      "tabaco => NC['masc']\n",
      "un => (NP['tres']/NC['masc'])\n",
      "una => (NP['tres']/NC['fem'])\n",
      "vicky => NP['tres']\n",
      "1 parses\n",
      "['julia', 'fuma']\n",
      "   julia          fuma\n",
      " NP['tres']  (S\\NP['tres'])\n",
      "----------------------------<\n",
      "             S\n"
     ]
    }
   ],
   "source": [
    "grammar = 'gramaticas/FCG1.txt'\n",
    "oracion5 = 'julia fuma'\n",
    "combinatory_parser(oracion5, grammar)"
   ]
  },
  {
   "cell_type": "code",
   "execution_count": 4,
   "metadata": {},
   "outputs": [
    {
     "name": "stdout",
     "output_type": "stream",
     "text": [
      "agarra => ((S\\NP['tres','anim'])/NP['inanim'])\n",
      "agarro => ((S\\NP['uno','anim'])/NP['inanim'])\n",
      "agarrás => ((S\\NP['dos','anim'])/NP['inanim'])\n",
      "cata => NP['tres','anim']\n",
      "cigarrillo => NC['masc','inanim']\n",
      "el => (NP['tres','anim']/NC['masc','anim']) | (NP['tres','inanim']/NC['masc','inanim'])\n",
      "ella => NP['tres','anim']\n",
      "explotó => (S\\NP['tres','inanim'])\n",
      "facultad => NC['fem','inanim']\n",
      "fede => NP['tres','anim']\n",
      "fer => NP['tres','anim']\n",
      "fuma => (S\\NP['tres','anim']) | ((S\\NP['tres','anim'])/NP['inanim'])\n",
      "fumo => (S\\NP['uno','anim']) | ((S\\NP['uno','anim'])/NP['inanim'])\n",
      "fumás => (S\\NP['dos','anim']) | ((S\\NP['dos','anim'])/NP['inanim'])\n",
      "fumó => (S\\NP['tres','anim'])\n",
      "globo => NC['masc','inanim']\n",
      "habla => (S\\NP['tres','anim'])\n",
      "hablo => (S\\NP['uno','anim'])\n",
      "hablás => (S\\NP['dos','anim'])\n",
      "julia => NP['tres','anim']\n",
      "la => (NP['tres','anim']/NC['fem','anim']) | (NP['tres','inanim']/NC['fem','inanim'])\n",
      "martín => NP['tres','anim']\n",
      "mira => ((S\\NP['tres','anim'])/NP['inanim'])\n",
      "miro => ((S\\NP['uno','anim'])/NP['inanim'])\n",
      "mirás => ((S\\NP['dos','anim'])/NP['inanim'])\n",
      "o => ((_var1\\.,_var1)/.,_var1)\n",
      "pablo => NP['tres','anim']\n",
      "persona => NC['fem','anim']\n",
      "plaza => NC['fem','inanim']\n",
      "profesor => NC['masc','anim']\n",
      "profesora => NC['fem','anim']\n",
      "regalo => NC['masc','inanim']\n",
      "un => (NP['tres','anim']/NC['masc','anim']) | (NP['tres','inanim']/NC['masc','inanim'])\n",
      "una => (NP['tres','anim']/NC['fem','anim']) | (NP['tres','inanim']/NC['fem','inanim'])\n",
      "vicky => NP['tres','anim']\n",
      "vos => NP['dos','anim']\n",
      "y => ((_var0\\.,_var0)/.,_var0)\n",
      "yo => NP['uno','anim']\n",
      "él => NP['tres','anim']\n",
      "2 parses\n",
      "['ella', 'fuma']\n",
      "       ella                 fuma\n",
      " NP['tres','anim']  (S\\NP['tres','anim'])\n",
      "------------------------------------------<\n",
      "                    S\n",
      "       ella                 fuma\n",
      " NP['tres','anim']  (S\\NP['tres','anim'])\n",
      "------------------->T\n",
      "(S/(S\\NP['tres','anim']))\n",
      "------------------------------------------>\n",
      "                    S\n"
     ]
    }
   ],
   "source": [
    "grammar = 'gramaticas/FCG2.txt'\n",
    "oracion6 = 'ella fuma'\n",
    "#oracion6 = 'la persona fuma'\n",
    "#oracion6 = 'la persona fuma el cigarrillo' \n",
    "#oracion6 = 'la plaza fuma' # Pregunta a estudiantes: ¿por qué da agramatical?\n",
    "#oracion6 = 'la persona fuma y yo hablo'\n",
    "combinatory_parser(oracion6, grammar)"
   ]
  },
  {
   "cell_type": "markdown",
   "metadata": {},
   "source": [
    "## Gramática categorial con anotación semántica"
   ]
  },
  {
   "cell_type": "code",
   "execution_count": 5,
   "metadata": {},
   "outputs": [],
   "source": [
    "def ccgsemparse(sentence, grammar):\n",
    "    sentence = sentence.lower()                                     # convierte a minúscula\n",
    "    if sentence.endswith('.'):                                      # si la oración termina con un punto\n",
    "        sent = re.sub('\\.',' ',sentence)                            # se lo quita\n",
    "    else:                                                           # si no\n",
    "        sent = sentence                                             # la toma como está\n",
    "    sent = sent.split()   \n",
    "    codigogram = nltk.data.load(grammar, cache=False)              # carga la gramática a nltk\n",
    "    print(codigogram)\n",
    "    print(type(codigogram))\n",
    "    lex = lexicon.fromstring(codigogram, True)\n",
    "    print(lex)\n",
    "    parser = chart.CCGChartParser(lex, chart.DefaultRuleSet)\n",
    "    parses = list(parser.parse(sent))\n",
    "    quantparses = len(parses)\n",
    "    print(str(quantparses) + \" parses\")\n",
    "    print(sent)\n",
    "    parseslist = 0\n",
    "    def showccgparses(parseslist1, quantparses1):\n",
    "        if parseslist1 < quantparses1:\n",
    "            printCCGDerivation(parses[parseslist1])\n",
    "            parseslist2 = parseslist1 + 1\n",
    "            showccgparses(parseslist2, quantparses1)\n",
    "        elif parseslist == quantparses: \n",
    "            printCCGDerivation(parses[parseslist])\n",
    "    if quantparses == 0:\n",
    "        print('No se encontraron estructuras para imprimir')\n",
    "    elif quantparses > 0:\n",
    "        showccgparses(parseslist, quantparses)"
   ]
  },
  {
   "cell_type": "code",
   "execution_count": 6,
   "metadata": {},
   "outputs": [
    {
     "name": "stdout",
     "output_type": "stream",
     "text": [
      ":- S, NP, PP\n",
      "juan => NP {juan}\n",
      "pablo => NP {pablo}\n",
      "romi => NP {romi}\n",
      "fernando => NP {fernando}\n",
      "maca => NP {maca}\n",
      "fuma => (S\\NP) {\\x.fumar(x)}\n",
      "explota => (S\\NP) {\\x.explotar(x)}\n",
      "corre => (S\\NP) {\\x.correr(x)}\n",
      "nada => (S\\NP) {\\x.nadar(x)}\n",
      "dio => ((S\\NP)/PP)/NP {\\x y z.dar(y,x,z)}\n",
      "a => PP/NP {\\x P.P(x)}\n",
      "\n",
      "<class 'str'>\n",
      "a => (PP/NP) {\\x P.P(x)}\n",
      "corre => (S\\NP) {\\x.correr(x)}\n",
      "dio => (((S\\NP)/PP)/NP) {\\x y z.dar(y,x,z)}\n",
      "explota => (S\\NP) {\\x.explotar(x)}\n",
      "fernando => NP {fernando}\n",
      "fuma => (S\\NP) {\\x.fumar(x)}\n",
      "juan => NP {juan}\n",
      "maca => NP {maca}\n",
      "nada => (S\\NP) {\\x.nadar(x)}\n",
      "pablo => NP {pablo}\n",
      "romi => NP {romi}\n",
      "1 parses\n",
      "['pablo', 'fuma']\n",
      "   pablo             fuma\n",
      " NP {pablo}  (S\\NP) {\\x.fumar(x)}\n",
      "----------------------------------<\n",
      "         S {fumar(pablo)}\n"
     ]
    }
   ],
   "source": [
    "oracion6= \"pablo fuma\"\n",
    "#oracion6 = 'juan dio fernando a romi'\n",
    "grammar3 = 'gramaticas/SCG1.txt'\n",
    "ccgsemparse(oracion6, grammar3)"
   ]
  },
  {
   "cell_type": "code",
   "execution_count": 7,
   "metadata": {},
   "outputs": [
    {
     "name": "stdout",
     "output_type": "stream",
     "text": [
      ":- S, NP\n",
      "i => NP {I}\n",
      "give => ((S\\NP)/NP)/NP {\\x y z.give(y,x,z)}\n",
      "them => NP {them}\n",
      "money => NP {money}\n",
      "\n",
      "<class 'str'>\n",
      "give => (((S\\NP)/NP)/NP) {\\x y z.give(y,x,z)}\n",
      "i => NP {I}\n",
      "money => NP {money}\n",
      "them => NP {them}\n",
      "3 parses\n",
      "['i', 'give', 'them', 'money']\n",
      "   i                     give                     them       money\n",
      " NP {I}  (((S\\NP)/NP)/NP) {\\x y z.give(y,x,z)}  NP {them}  NP {money}\n",
      "        -------------------------------------------------->\n",
      "                ((S\\NP)/NP) {\\y z.give(y,them,z)}\n",
      "        -------------------------------------------------------------->\n",
      "                        (S\\NP) {\\z.give(money,them,z)}\n",
      "----------------------------------------------------------------------<\n",
      "                        S {give(money,them,I)}\n",
      "   i                     give                     them       money\n",
      " NP {I}  (((S\\NP)/NP)/NP) {\\x y z.give(y,x,z)}  NP {them}  NP {money}\n",
      "-------->T\n",
      "(S/(S\\NP)) {\\F.F(I)}\n",
      "        -------------------------------------------------->\n",
      "                ((S\\NP)/NP) {\\y z.give(y,them,z)}\n",
      "        -------------------------------------------------------------->\n",
      "                        (S\\NP) {\\z.give(money,them,z)}\n",
      "---------------------------------------------------------------------->\n",
      "                        S {give(money,them,I)}\n",
      "   i                     give                     them       money\n",
      " NP {I}  (((S\\NP)/NP)/NP) {\\x y z.give(y,x,z)}  NP {them}  NP {money}\n",
      "-------->T\n",
      "(S/(S\\NP)) {\\F.F(I)}\n",
      "        -------------------------------------------------->\n",
      "                ((S\\NP)/NP) {\\y z.give(y,them,z)}\n",
      "---------------------------------------------------------->B\n",
      "                (S/NP) {\\y.give(y,them,I)}\n",
      "---------------------------------------------------------------------->\n",
      "                        S {give(money,them,I)}\n"
     ]
    }
   ],
   "source": [
    "oracion6 = 'I give them money'\n",
    "grammar3 = 'gramaticas/SCG2.txt'\n",
    "ccgsemparse(oracion6, grammar3)"
   ]
  },
  {
   "cell_type": "markdown",
   "metadata": {},
   "source": [
    "## Para TP4"
   ]
  },
  {
   "cell_type": "code",
   "execution_count": 20,
   "metadata": {},
   "outputs": [
    {
     "name": "stdout",
     "output_type": "stream",
     "text": [
      "cansada => NP['fem']\n",
      "cansado => NP['masc']\n",
      "corre => (S\\NP)\n",
      "el => (NP['masc']/NP['masc'])\n",
      "esta => ((S\\NP['masc'])/NP['masc']) | ((S\\NP['fem'])/NP['fem'])\n",
      "la => (NP['fem']/NP['fem'])\n",
      "leon => NP['masc']\n",
      "leona => NP['fem']\n",
      "3 parses\n",
      "['la', 'leona', 'esta', 'cansada']\n",
      "          la              leona              esta              cansada\n",
      " (NP['fem']/NP['fem'])  NP['fem']  ((S\\NP['fem'])/NP['fem'])  NP['fem']\n",
      "---------------------------------->\n",
      "            NP['fem']\n",
      "                                  -------------------------------------->\n",
      "                                              (S\\NP['fem'])\n",
      "------------------------------------------------------------------------<\n",
      "                                   S\n",
      "          la              leona              esta              cansada\n",
      " (NP['fem']/NP['fem'])  NP['fem']  ((S\\NP['fem'])/NP['fem'])  NP['fem']\n",
      "---------------------------------->\n",
      "            NP['fem']\n",
      "---------------------------------->T\n",
      "        (S/(S\\NP['fem']))\n",
      "                                  -------------------------------------->\n",
      "                                              (S\\NP['fem'])\n",
      "------------------------------------------------------------------------>\n",
      "                                   S\n",
      "          la              leona              esta              cansada\n",
      " (NP['fem']/NP['fem'])  NP['fem']  ((S\\NP['fem'])/NP['fem'])  NP['fem']\n",
      "---------------------------------->\n",
      "            NP['fem']\n",
      "---------------------------------->T\n",
      "        (S/(S\\NP['fem']))\n",
      "------------------------------------------------------------->B\n",
      "                        (S/NP['fem'])\n",
      "------------------------------------------------------------------------>\n",
      "                                   S\n"
     ]
    }
   ],
   "source": [
    "grammar = 'gramaticas/tp4.txt'\n",
    "#oraciontp = 'El leon corre'\n",
    "#oraciontp = 'La leona corre'\n",
    "#oraciontp = 'El leona corre'\n",
    "#oraciontp = 'La leon corre'\n",
    "#oraciontp = 'El leon esta cansado'\n",
    "#oraciontp = 'El leon esta cansada'\n",
    "#oraciontp = 'El leona esta cansado'\n",
    "#oraciontp = 'El leona esta cansada'\n",
    "#oraciontp = 'La leon esta cansado'\n",
    "#oraciontp = 'La leon esta cansada'\n",
    "#oraciontp = 'La leona esta cansado'\n",
    "#oraciontp = 'La leona esta cansada'\n",
    "#oraciontp = 'El leon come la carne'\n",
    "#oraciontp = 'La leona come la carne'\n",
    "#oraciontp = 'La carne come el león'\n",
    "#oraciontp= 'La carne como la leona'\n",
    "combinatory_parser(oraciontp, grammar)"
   ]
  },
  {
   "cell_type": "markdown",
   "metadata": {},
   "source": [
    "{% include additional_content.html %}\n",
    "\n",
    "{% include copybutton.html %}"
   ]
  },
  {
   "cell_type": "code",
   "execution_count": null,
   "metadata": {},
   "outputs": [],
   "source": []
  }
 ],
 "metadata": {
  "kernelspec": {
   "display_name": "Python 3 (ipykernel)",
   "language": "python",
   "name": "python3"
  },
  "language_info": {
   "codemirror_mode": {
    "name": "ipython",
    "version": 3
   },
   "file_extension": ".py",
   "mimetype": "text/x-python",
   "name": "python",
   "nbconvert_exporter": "python",
   "pygments_lexer": "ipython3",
   "version": "3.8.10"
  }
 },
 "nbformat": 4,
 "nbformat_minor": 2
}
