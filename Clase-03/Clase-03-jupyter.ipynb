{
 "cells": [
  {
   "cell_type": "code",
   "execution_count": null,
   "id": "fbc138fb",
   "metadata": {},
   "outputs": [],
   "source": [
    "import re"
   ]
  },
  {
   "cell_type": "code",
   "execution_count": null,
   "id": "60773f21",
   "metadata": {},
   "outputs": [],
   "source": [
    "texto = open('data/motomami.txt').read() # Abre el archivo motomami.txt de la carpeta data.\n",
    "print(texto) # Imprime el texto"
   ]
  },
  {
   "cell_type": "code",
   "execution_count": null,
   "id": "e1bfb2f6",
   "metadata": {},
   "outputs": [],
   "source": [
    "with open('data/motomamifiltrado.txt','w') as f:\n",
    "    textofiltrado = texto.lower() # ¿qué les parece que hace?\n",
    "    f.write(textofiltrado)\n",
    "    print(textofiltrado)"
   ]
  },
  {
   "cell_type": "code",
   "execution_count": null,
   "id": "aa9292ca",
   "metadata": {},
   "outputs": [],
   "source": [
    "with open('data/motomamifiltrado.txt','w') as f:\n",
    "    textofiltrado = ' '.join(re.sub(\"(@[a-z0-9_]+)\", \"\", textofiltrado).split()) # ¿qué les parece que hace?\n",
    "    f.write(textofiltrado)\n",
    "    print(textofiltrado)"
   ]
  },
  {
   "cell_type": "code",
   "execution_count": null,
   "id": "70001d92",
   "metadata": {},
   "outputs": [],
   "source": [
    "lista = re.findall(r'(@[a-z0-9_]+)', texto)\n",
    "print(lista)"
   ]
  },
  {
   "cell_type": "code",
   "execution_count": null,
   "id": "832359c4",
   "metadata": {},
   "outputs": [],
   "source": [
    "with open('data/motomamifiltrado.txt','w') as f:\n",
    "    textofiltrado = ' '.join(re.sub(\"(\\w+:\\/\\/\\S+)\", \"\", textofiltrado).split()) # ¿qué les parece que hace?\n",
    "    f.write(textofiltrado)\n",
    "    print(textofiltrado)"
   ]
  },
  {
   "cell_type": "code",
   "execution_count": null,
   "id": "ad587b54",
   "metadata": {},
   "outputs": [],
   "source": [
    "lista = re.findall(r'(\\w+:\\/\\/\\S+)', texto)\n",
    "print(lista)"
   ]
  },
  {
   "cell_type": "code",
   "execution_count": null,
   "id": "cf367b31",
   "metadata": {},
   "outputs": [],
   "source": [
    "with open('data/motomamifiltrado.txt','w') as f:\n",
    "    textofiltrado = ' '.join(re.sub(\"((#[A-Za-z0-9]+ ?)+)\", \"\", texto).split()) # ¿qué les parece que hace?\n",
    "    f.write(textofiltrado)\n",
    "    print(textofiltrado)"
   ]
  },
  {
   "cell_type": "code",
   "execution_count": null,
   "id": "0c209714",
   "metadata": {},
   "outputs": [],
   "source": [
    "lista = re.findall(\"(#[A-Za-z0-9]+)\", texto)\n",
    "print(lista)"
   ]
  },
  {
   "cell_type": "code",
   "execution_count": null,
   "id": "111871ed",
   "metadata": {},
   "outputs": [],
   "source": [
    "with open('data/motomamifiltrado.txt','w') as f:\n",
    "    textofiltrado = ' '.join(re.sub(\"[\\.\\,\\!\\?\\:\\;\\-\\=¿¡\\|\\(\\)#\\[\\]\\\"]\", \"\", texto).split()) # ¿qué les parece que hace?\n",
    "    f.write(textofiltrado)\n",
    "    print(textofiltrado)"
   ]
  },
  {
   "cell_type": "markdown",
   "id": "731450fc",
   "metadata": {},
   "source": [
    "{% include additional_content.html %}\n",
    "\n",
    "{% include copybutton.html %}"
   ]
  }
 ],
 "metadata": {
  "kernelspec": {
   "display_name": "Python 3 (ipykernel)",
   "language": "python",
   "name": "python3"
  },
  "language_info": {
   "codemirror_mode": {
    "name": "ipython",
    "version": 3
   },
   "file_extension": ".py",
   "mimetype": "text/x-python",
   "name": "python",
   "nbconvert_exporter": "python",
   "pygments_lexer": "ipython3",
   "version": "3.8.10"
  }
 },
 "nbformat": 4,
 "nbformat_minor": 5
}
